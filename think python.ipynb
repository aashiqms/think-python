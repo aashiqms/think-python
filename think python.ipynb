{
 "cells": [
  {
   "cell_type": "markdown",
   "metadata": {},
   "source": [
    "# Think Python"
   ]
  },
  {
   "cell_type": "markdown",
   "metadata": {},
   "source": [
    "# …or push an existing repository from the command line\n",
    "git remote add origin https://github.com/aashiqms/think-python.git<br>\n",
    "git push -u origin master"
   ]
  },
  {
   "cell_type": "markdown",
   "metadata": {},
   "source": [
    "# Python order of operation"
   ]
  },
  {
   "cell_type": "markdown",
   "metadata": {},
   "source": [
    "#### Python follows PEMDAS order of operation which means the following:\n",
    "#### parenthesis has highest precedence then Exponentiation then Multiplication and Division have higher precedence\n",
    "#### than Addition and Subtraction, operators with same precedence are evaluated from left to right(except exponentiation)\n",
    "#### if you cant remember order of operations just use parenthesis"
   ]
  },
  {
   "cell_type": "markdown",
   "metadata": {},
   "source": [
    "## The print statement parenthesis indicate that it is a function"
   ]
  },
  {
   "cell_type": "code",
   "execution_count": 10,
   "metadata": {},
   "outputs": [
    {
     "name": "stdout",
     "output_type": "stream",
     "text": [
      "hello world\n"
     ]
    }
   ],
   "source": [
    "print('hello world')"
   ]
  },
  {
   "cell_type": "markdown",
   "metadata": {},
   "source": [
    "#### the operator + performs addition\n"
   ]
  },
  {
   "cell_type": "code",
   "execution_count": 3,
   "metadata": {},
   "outputs": [
    {
     "name": "stdout",
     "output_type": "stream",
     "text": [
      "15\n"
     ]
    }
   ],
   "source": [
    "print(10 + 5)"
   ]
  },
  {
   "cell_type": "markdown",
   "metadata": {},
   "source": [
    "#### the operator - performs subtraction\n"
   ]
  },
  {
   "cell_type": "code",
   "execution_count": 4,
   "metadata": {},
   "outputs": [
    {
     "name": "stdout",
     "output_type": "stream",
     "text": [
      "5\n"
     ]
    }
   ],
   "source": [
    "print(10-5)"
   ]
  },
  {
   "cell_type": "markdown",
   "metadata": {},
   "source": [
    "#### the operator * performs multiplication"
   ]
  },
  {
   "cell_type": "code",
   "execution_count": 5,
   "metadata": {},
   "outputs": [
    {
     "name": "stdout",
     "output_type": "stream",
     "text": [
      "50\n"
     ]
    }
   ],
   "source": [
    "print(10*5)"
   ]
  },
  {
   "cell_type": "markdown",
   "metadata": {},
   "source": [
    "#### the operator / perfrom division"
   ]
  },
  {
   "cell_type": "code",
   "execution_count": 6,
   "metadata": {
    "scrolled": true
   },
   "outputs": [
    {
     "name": "stdout",
     "output_type": "stream",
     "text": [
      "2.0\n"
     ]
    }
   ],
   "source": [
    "print(10/5)"
   ]
  },
  {
   "cell_type": "markdown",
   "metadata": {},
   "source": [
    "#### the operator ** performs exponentiation"
   ]
  },
  {
   "cell_type": "code",
   "execution_count": 8,
   "metadata": {},
   "outputs": [
    {
     "name": "stdout",
     "output_type": "stream",
     "text": [
      "248832\n"
     ]
    }
   ],
   "source": [
    "print(12 ** 5)"
   ]
  },
  {
   "cell_type": "markdown",
   "metadata": {},
   "source": [
    "### ex_1-2 Problem 1: How many seconds are there in 42 minutes 42 seconds?\n"
   ]
  },
  {
   "cell_type": "code",
   "execution_count": 11,
   "metadata": {},
   "outputs": [
    {
     "name": "stdout",
     "output_type": "stream",
     "text": [
      "the total number of seconds in 42 minutes and 42 seconds is 2562\n"
     ]
    }
   ],
   "source": [
    "one_minute = 60\n",
    "number_of_minutes = 42\n",
    "number_of_seconds = 42\n",
    "number_of_seconds_1 = number_of_minutes * one_minute\n",
    "total_seconds = number_of_seconds_1 + number_of_seconds\n",
    "print('the total number of seconds in 42 minutes and 42 seconds is {}'.format(total_seconds))"
   ]
  },
  {
   "cell_type": "markdown",
   "metadata": {},
   "source": [
    "### ex_1-2 Problem 2: How many miles are there in 10 kilometers? Hint: there are 1.61 kilometers in a mile.\n"
   ]
  },
  {
   "cell_type": "markdown",
   "metadata": {},
   "source": [
    "###### 1.61 * x = 10\n",
    "###### x = 10 / 1.61"
   ]
  },
  {
   "cell_type": "code",
   "execution_count": 12,
   "metadata": {},
   "outputs": [
    {
     "name": "stdout",
     "output_type": "stream",
     "text": [
      "total miles in ten kilometers is 6.211180124223602\n"
     ]
    }
   ],
   "source": [
    "total_miles = 10 / 1.61\n",
    "print('total miles in ten kilometers is {}'.format(total_miles))"
   ]
  },
  {
   "cell_type": "markdown",
   "metadata": {},
   "source": [
    "### ex_1-2 Problem 3: If you run a 10 kilometer race in 42 minutes 42 seconds, what is your average pace (time per mile in minutes and seconds)? What is your average speed in miles per hour?"
   ]
  },
  {
   "cell_type": "markdown",
   "metadata": {},
   "source": [
    "###### speed = distance / time\n",
    "###### distance = 10 / 1.61 = 6.21118"
   ]
  },
  {
   "cell_type": "code",
   "execution_count": 13,
   "metadata": {},
   "outputs": [
    {
     "name": "stdout",
     "output_type": "stream",
     "text": [
      "pace in miles per second is 0.0024243482139826703 and pace in miles per hour is 0.0024243482139826703\n"
     ]
    }
   ],
   "source": [
    "total_seconds = 60 * 42 + 42\n",
    "total_hours = total_seconds * 3600\n",
    "pace_in_seconds = total_miles / total_seconds\n",
    "pace_in_hours = total_miles / total_seconds\n",
    "print('pace in miles per second is {} and pace in miles per hour is {}'.format(pace_in_seconds, pace_in_hours))"
   ]
  },
  {
   "cell_type": "markdown",
   "metadata": {},
   "source": [
    "## Ex 2-1 How python responds to various errors and syntax anomalies"
   ]
  },
  {
   "cell_type": "code",
   "execution_count": 14,
   "metadata": {},
   "outputs": [],
   "source": [
    "n = 42"
   ]
  },
  {
   "cell_type": "code",
   "execution_count": 15,
   "metadata": {},
   "outputs": [
    {
     "ename": "SyntaxError",
     "evalue": "cannot assign to literal (<ipython-input-15-f0c37ed646fc>, line 1)",
     "output_type": "error",
     "traceback": [
      "\u001b[1;36m  File \u001b[1;32m\"<ipython-input-15-f0c37ed646fc>\"\u001b[1;36m, line \u001b[1;32m1\u001b[0m\n\u001b[1;33m    42 = n\u001b[0m\n\u001b[1;37m    ^\u001b[0m\n\u001b[1;31mSyntaxError\u001b[0m\u001b[1;31m:\u001b[0m cannot assign to literal\n"
     ]
    }
   ],
   "source": [
    "42 = n"
   ]
  },
  {
   "cell_type": "code",
   "execution_count": 16,
   "metadata": {},
   "outputs": [],
   "source": [
    "x = y = 1"
   ]
  },
  {
   "cell_type": "code",
   "execution_count": 17,
   "metadata": {},
   "outputs": [
    {
     "data": {
      "text/plain": [
       "1"
      ]
     },
     "execution_count": 17,
     "metadata": {},
     "output_type": "execute_result"
    }
   ],
   "source": [
    "x"
   ]
  },
  {
   "cell_type": "code",
   "execution_count": 18,
   "metadata": {},
   "outputs": [
    {
     "data": {
      "text/plain": [
       "1"
      ]
     },
     "execution_count": 18,
     "metadata": {},
     "output_type": "execute_result"
    }
   ],
   "source": [
    "y"
   ]
  },
  {
   "cell_type": "markdown",
   "metadata": {},
   "source": [
    "##### Ex 2-1 what happens when yoy put semicolon in end like most programming languages will it result in error?"
   ]
  },
  {
   "cell_type": "code",
   "execution_count": 19,
   "metadata": {},
   "outputs": [
    {
     "name": "stdout",
     "output_type": "stream",
     "text": [
      "hello\n"
     ]
    }
   ],
   "source": [
    "print('hello');"
   ]
  },
  {
   "cell_type": "markdown",
   "metadata": {},
   "source": [
    "###### Ex 2-1 what happens when you try to multiply two variable x and y without * operator  like normal mathematics"
   ]
  },
  {
   "cell_type": "code",
   "execution_count": 20,
   "metadata": {},
   "outputs": [
    {
     "ename": "NameError",
     "evalue": "name 'xy' is not defined",
     "output_type": "error",
     "traceback": [
      "\u001b[1;31m---------------------------------------------------------------------------\u001b[0m",
      "\u001b[1;31mNameError\u001b[0m                                 Traceback (most recent call last)",
      "\u001b[1;32m<ipython-input-20-87c50ab47682>\u001b[0m in \u001b[0;36m<module>\u001b[1;34m\u001b[0m\n\u001b[0;32m      1\u001b[0m \u001b[0mx\u001b[0m \u001b[1;33m=\u001b[0m \u001b[1;36m6\u001b[0m\u001b[1;33m\u001b[0m\u001b[1;33m\u001b[0m\u001b[0m\n\u001b[0;32m      2\u001b[0m \u001b[0my\u001b[0m \u001b[1;33m=\u001b[0m \u001b[1;36m8\u001b[0m\u001b[1;33m\u001b[0m\u001b[1;33m\u001b[0m\u001b[0m\n\u001b[1;32m----> 3\u001b[1;33m \u001b[0mprint\u001b[0m\u001b[1;33m(\u001b[0m\u001b[0mxy\u001b[0m\u001b[1;33m)\u001b[0m\u001b[1;33m\u001b[0m\u001b[1;33m\u001b[0m\u001b[0m\n\u001b[0m",
      "\u001b[1;31mNameError\u001b[0m: name 'xy' is not defined"
     ]
    }
   ],
   "source": [
    "x = 6\n",
    "y = 8\n",
    "print(xy)"
   ]
  },
  {
   "cell_type": "markdown",
   "metadata": {},
   "source": [
    "# String operations"
   ]
  },
  {
   "cell_type": "markdown",
   "metadata": {},
   "source": [
    "##### The operator + performs concatenation operation in strings"
   ]
  },
  {
   "cell_type": "code",
   "execution_count": 21,
   "metadata": {},
   "outputs": [
    {
     "name": "stdout",
     "output_type": "stream",
     "text": [
      "my name\n"
     ]
    }
   ],
   "source": [
    "first = 'my '\n",
    "second = 'name'\n",
    "print(first + second)"
   ]
  },
  {
   "cell_type": "markdown",
   "metadata": {},
   "source": [
    "##### The operator * performs repetition operations in strings"
   ]
  },
  {
   "cell_type": "code",
   "execution_count": 22,
   "metadata": {},
   "outputs": [
    {
     "name": "stdout",
     "output_type": "stream",
     "text": [
      "repeatrepeatrepeat\n"
     ]
    }
   ],
   "source": [
    "third = 'repeat'\n",
    "print(third * 3)"
   ]
  },
  {
   "cell_type": "markdown",
   "metadata": {},
   "source": [
    "# Error Types\n",
    "<h3>Syntax error:</h3>\n",
    "<p>\"Syntax\" refers to the structure of a program and the rules about that structure. For example, parentheses have to come in matching pairs, so (1 + 2) is legal, but 8) is a syntax error .\n",
    "</p>\n",
    "<h3>Runtime error:</h3>\n",
    "<p>The second type of error is a runtime error, so called because the error does not appear until after\n",
    "the program has started running. These errors are also called exceptions because they usually indicate that\n",
    "something exceptional (and bad) has happened.\n",
    "</p>\n",
    "<h3>Semantic error:</h3>\n",
    "<p>The third type of error is \"semantic\", which means related to meaning. If there is a semantic error\n",
    "in your program, it will run without generating error messages, but it will not do the right thing. It will do\n",
    "something else. Specifically, it will do what you told it to do. Identifying semantic errors can be tricky because\n",
    "it requires you to work backward by looking at the output of the program and trying to figure out what it is doing.\n",
    "</p>"
   ]
  },
  {
   "cell_type": "markdown",
   "metadata": {},
   "source": [
    "# Glossary\n",
    "<h3>variable:</h3>\n",
    "<p>A name that refers to a value.</p>\n",
    "<h3>assignment:</h3>\n",
    "<p>A statement that assigns a value to a variable.</p>\n",
    "<h3>state diagram:</h3>\n",
    "<p>A graphical representation of a set of variables and the values they refer to.\n",
    "</p>\n",
    "<h3>keyword:</h3>\n",
    "<p>A reserved word that is used to parse a program; you cannot use keywords like if , def , and while as variable names.</p>\n",
    "<h3>operand:</h3>\n",
    "<p>One of the values on which an operator operates</p>\n",
    "<h3>script mode:</h3>\n",
    "<p>A way of using the Python interpreter to read code from a script and run it.\n",
    "</p>\n",
    "<h3>script:</h3>\n",
    "A program stored in a file.\n",
    "<h3>order of operations:</h3>\n",
    "<p>Rules governing the order in which expressions involving multiple operators and operands are evaluated.\n",
    "</p>\n",
    "<h3>concatenate:</h3>\n",
    "<p>To join two operands end-to-end.\n",
    "</p>\n",
    "<h3>comment:</h3>\n",
    "<p>Information in a program that is meant for other programmers (or anyone reading the source code) and has no effect on the execution of the program.\n",
    "</p>\n",
    "<h3>syntax error:\n",
    "</h3>\n",
    "<p>An error in a program that makes it impossible to parse (and therefore impossible to interpret). exception: An error that is detected while the program is running. semantics: The meaning of a program. semantic error: An error in a program that makes it do something other than what the programmer intended.\n",
    "</p>\n",
    "<h3>exception:</h3>\n",
    "<p>An error that is detected while the program is running.\n",
    "</p>\n",
    "<h3>semantics:\n",
    "</h3>\n",
    "<p>The meaning of a program.\n",
    "</p>\n",
    "<h3>semantic error:\n",
    "</h3>\n",
    "<p>An error in a program that makes it do something other than what the programmer intended.</p>"
   ]
  },
  {
   "cell_type": "markdown",
   "metadata": {},
   "source": [
    "#### Ex_2-2 Problem 1: The volume of a sphere with radius r is V=4 / 3 πr3 . What is the volume of a sphere with radius 5?\n"
   ]
  },
  {
   "cell_type": "code",
   "execution_count": 23,
   "metadata": {},
   "outputs": [
    {
     "name": "stdout",
     "output_type": "stream",
     "text": [
      "523.5983333333332\n"
     ]
    }
   ],
   "source": [
    "multiplier = 4 / 3\n",
    "volume = multiplier * (3.14159 * 5 ** 3)\n",
    "print(volume)"
   ]
  },
  {
   "cell_type": "markdown",
   "metadata": {},
   "source": [
    "#### Ex_2-2 Problem 2: Suppose the cover price of a book is 24.95 dollars, but bookstores get a 40% discount. Shipping costs 3 dollars for the first copy and 75 cents for each additional copy. What is the total wholesale cost for 60 copies?\n"
   ]
  },
  {
   "cell_type": "code",
   "execution_count": 24,
   "metadata": {},
   "outputs": [
    {
     "name": "stdout",
     "output_type": "stream",
     "text": [
      "the total cost is 442512.98 dollars\n"
     ]
    }
   ],
   "source": [
    "cover_price = 24.95\n",
    "discount_price = cover_price * (40 / 100)\n",
    "# # cent * 100 = dollar\n",
    "# # cent = dollar / 100\n",
    "shipping_cent = 75 * 59\n",
    "shipping_dollars = shipping_cent * 100\n",
    "total_price = discount_price + 3 + shipping_dollars\n",
    "print('the total cost is {} dollars'.format(total_price))"
   ]
  },
  {
   "cell_type": "markdown",
   "metadata": {},
   "source": [
    "#### Ex_2-2 Problem 3: If I leave my house at 6:52 am and run 1 mile at an easy pace (8:15 per mile), then 3 miles at tempo (7:12 per mile) and 1 mile at an easy pace again, what time do I get home for breakfast?\n"
   ]
  },
  {
   "cell_type": "code",
   "execution_count": 25,
   "metadata": {},
   "outputs": [
    {
     "name": "stdout",
     "output_type": "stream",
     "text": [
      "the time of returning is 7.16 am\n"
     ]
    }
   ],
   "source": [
    "# # speed = distance / time\n",
    "# # time = distance / speed\n",
    "miles = 8.15 + 7.12 + 8.15\n",
    "avg_miles = miles / 3\n",
    "time = 5 / avg_miles\n",
    "total_time = 6.52 + time\n",
    "print('the time of returning is {:.2f} am'.format(total_time))"
   ]
  },
  {
   "cell_type": "markdown",
   "metadata": {},
   "source": [
    "# Functions"
   ]
  },
  {
   "cell_type": "markdown",
   "metadata": {},
   "source": [
    "### A function is a named sequence of statements that performs a computation. When you define a function, you specify the name and the sequence of statements. Later, you can “call” the function by name."
   ]
  },
  {
   "cell_type": "markdown",
   "metadata": {},
   "source": [
    "# Function Calls"
   ]
  },
  {
   "cell_type": "code",
   "execution_count": 26,
   "metadata": {},
   "outputs": [
    {
     "data": {
      "text/plain": [
       "int"
      ]
     },
     "execution_count": 26,
     "metadata": {},
     "output_type": "execute_result"
    }
   ],
   "source": [
    "type(42)"
   ]
  },
  {
   "cell_type": "code",
   "execution_count": 27,
   "metadata": {},
   "outputs": [
    {
     "data": {
      "text/plain": [
       "str"
      ]
     },
     "execution_count": 27,
     "metadata": {},
     "output_type": "execute_result"
    }
   ],
   "source": [
    "type('123')"
   ]
  },
  {
   "cell_type": "markdown",
   "metadata": {},
   "source": [
    "## Function Arguments\n",
    "<br>\n",
    "<div class='lead'>\n",
    "The expression in parentheses is called the argument of the function. The result, for this function, is the type of the argument. It is common to say that a function “takes” an argument and “returns” a result. The result is also called the return value .\n",
    "</div>"
   ]
  },
  {
   "cell_type": "markdown",
   "metadata": {},
   "source": [
    "# python Typeconversion Functions"
   ]
  },
  {
   "cell_type": "markdown",
   "metadata": {},
   "source": [
    "### Python provides functions that convert values from one type to another. The int function takes any value and converts it to an integer, if it can, or complains otherwise:"
   ]
  },
  {
   "cell_type": "code",
   "execution_count": 28,
   "metadata": {},
   "outputs": [
    {
     "data": {
      "text/plain": [
       "32"
      ]
     },
     "execution_count": 28,
     "metadata": {},
     "output_type": "execute_result"
    }
   ],
   "source": [
    "int('32')"
   ]
  },
  {
   "cell_type": "code",
   "execution_count": 29,
   "metadata": {},
   "outputs": [
    {
     "ename": "ValueError",
     "evalue": "invalid literal for int() with base 10: 'Hello'",
     "output_type": "error",
     "traceback": [
      "\u001b[1;31m---------------------------------------------------------------------------\u001b[0m",
      "\u001b[1;31mValueError\u001b[0m                                Traceback (most recent call last)",
      "\u001b[1;32m<ipython-input-29-6765ce49acfe>\u001b[0m in \u001b[0;36m<module>\u001b[1;34m\u001b[0m\n\u001b[1;32m----> 1\u001b[1;33m \u001b[0mint\u001b[0m\u001b[1;33m(\u001b[0m\u001b[1;34m'Hello'\u001b[0m\u001b[1;33m)\u001b[0m\u001b[1;33m\u001b[0m\u001b[1;33m\u001b[0m\u001b[0m\n\u001b[0m",
      "\u001b[1;31mValueError\u001b[0m: invalid literal for int() with base 10: 'Hello'"
     ]
    }
   ],
   "source": [
    "int('Hello')"
   ]
  },
  {
   "cell_type": "markdown",
   "metadata": {},
   "source": [
    "### int can convert floating-point values to integers, but it doesn’t round off; it chops off the fraction part:"
   ]
  },
  {
   "cell_type": "code",
   "execution_count": 30,
   "metadata": {},
   "outputs": [
    {
     "data": {
      "text/plain": [
       "3"
      ]
     },
     "execution_count": 30,
     "metadata": {},
     "output_type": "execute_result"
    }
   ],
   "source": [
    "int(3.99999)"
   ]
  },
  {
   "cell_type": "code",
   "execution_count": 31,
   "metadata": {},
   "outputs": [
    {
     "data": {
      "text/plain": [
       "-2"
      ]
     },
     "execution_count": 31,
     "metadata": {},
     "output_type": "execute_result"
    }
   ],
   "source": [
    "int(-2.3)"
   ]
  },
  {
   "cell_type": "markdown",
   "metadata": {},
   "source": [
    "### float type converter"
   ]
  },
  {
   "cell_type": "code",
   "execution_count": 32,
   "metadata": {},
   "outputs": [
    {
     "data": {
      "text/plain": [
       "32.0"
      ]
     },
     "execution_count": 32,
     "metadata": {},
     "output_type": "execute_result"
    }
   ],
   "source": [
    "float(32)"
   ]
  },
  {
   "cell_type": "code",
   "execution_count": 33,
   "metadata": {},
   "outputs": [
    {
     "data": {
      "text/plain": [
       "134.0"
      ]
     },
     "execution_count": 33,
     "metadata": {},
     "output_type": "execute_result"
    }
   ],
   "source": [
    "float('134')"
   ]
  },
  {
   "cell_type": "markdown",
   "metadata": {},
   "source": [
    "### str converts its argument to a string:"
   ]
  },
  {
   "cell_type": "code",
   "execution_count": 34,
   "metadata": {},
   "outputs": [
    {
     "data": {
      "text/plain": [
       "'32'"
      ]
     },
     "execution_count": 34,
     "metadata": {},
     "output_type": "execute_result"
    }
   ],
   "source": [
    "str(32)"
   ]
  },
  {
   "cell_type": "code",
   "execution_count": 35,
   "metadata": {},
   "outputs": [
    {
     "data": {
      "text/plain": [
       "'3.14159'"
      ]
     },
     "execution_count": 35,
     "metadata": {},
     "output_type": "execute_result"
    }
   ],
   "source": [
    "str(3.14159)"
   ]
  },
  {
   "cell_type": "markdown",
   "metadata": {},
   "source": [
    "# Math Functions"
   ]
  },
  {
   "cell_type": "markdown",
   "metadata": {},
   "source": [
    "### Python has a math module that provides most of the familiar mathematical functions."
   ]
  },
  {
   "cell_type": "markdown",
   "metadata": {},
   "source": [
    "# Module"
   ]
  },
  {
   "cell_type": "markdown",
   "metadata": {},
   "source": [
    "### A module is a file that contains a collection of related functions."
   ]
  },
  {
   "cell_type": "markdown",
   "metadata": {},
   "source": [
    "# import statement"
   ]
  },
  {
   "cell_type": "markdown",
   "metadata": {},
   "source": [
    "### Before we can use the functions in a module, we have to import it with an import statement :"
   ]
  },
  {
   "cell_type": "code",
   "execution_count": 36,
   "metadata": {},
   "outputs": [],
   "source": [
    "import math"
   ]
  },
  {
   "cell_type": "markdown",
   "metadata": {},
   "source": [
    "### This statement creates a module object named math. If you display the module object, you get some information about it.\n",
    "### The module object contains the functions and variables defined in the module."
   ]
  },
  {
   "cell_type": "code",
   "execution_count": 37,
   "metadata": {},
   "outputs": [
    {
     "data": {
      "text/plain": [
       "<module 'math' (built-in)>"
      ]
     },
     "execution_count": 37,
     "metadata": {},
     "output_type": "execute_result"
    }
   ],
   "source": [
    "math"
   ]
  },
  {
   "cell_type": "markdown",
   "metadata": {},
   "source": [
    "# Dot Notation to access functions in a module"
   ]
  },
  {
   "cell_type": "markdown",
   "metadata": {},
   "source": [
    "### To Access one of the functions, you have to specify the name of the function and the name of the module, separated by a dot (also known as a period). This format is called dot notation ."
   ]
  },
  {
   "cell_type": "code",
   "execution_count": 42,
   "metadata": {},
   "outputs": [],
   "source": [
    "signal_power = 14\n",
    "noise_power = 21\n",
    "ratio = signal_power / noise_power\n",
    "decibels = 10 * math.log10(ratio)"
   ]
  },
  {
   "cell_type": "code",
   "execution_count": 44,
   "metadata": {},
   "outputs": [],
   "source": [
    "radians = 0.7 # variable name is hint since trignometrics functions take argument in radians\n",
    "height = math.sin(radians)"
   ]
  },
  {
   "cell_type": "markdown",
   "metadata": {},
   "source": [
    "# Composition \n",
    "<br>\n",
    "<div class='lead'>So far, we have looked at the elements of a program — variables, expressions, and statements — in isolation, without talking about how to combine them. One of the most useful features of programming languages is their ability to take small building blocks and compose them. For example, the argument of a function can be any kind of expression, \n",
    " including arithmetic operators: x = math.sin(degrees / 360.0 * 2 * math.pi) \n",
    " And even function calls: x = math.exp(math.log(x+1))\n",
    "</div>\n",
    "<div class='lead'>Composition So far, we have looked at the elements of a program — variables, expressions, and statements — in isolation, without talking about how to combine them. One of the most useful features of programming languages is their ability to take small building blocks and compose them. For example, the argument of a function can be any kind of expression, including arithmetic operators: x = math.sin(degrees / 360.0 * 2 * math.pi) And even function calls: x = math.exp(math.log(x+1))\n",
    " </div>"
   ]
  },
  {
   "cell_type": "markdown",
   "metadata": {},
   "source": [
    "# Adding new functions(user defined) functions\n",
    "<br>\n",
    "<div class='lead'>def is a keyword that is used to define the start of a function followed by the function name\n",
    "empty parenthesis after function name indicates that the function does not take any arguments</div>\n",
    "\n",
    "<div class='lead'>The first line of the function definition is called the header ; the rest is called the body . The header has to end with a colon and the body has to be indented. By convention, indentation is always four spaces. The body can contain any number of statements.</div>\n",
    "\n",
    "<div class='lead'> To end the function, you have to enter an empty line. \n",
    " Defining a function creates a function object , which has type function.</div>"
   ]
  },
  {
   "cell_type": "code",
   "execution_count": 45,
   "metadata": {},
   "outputs": [],
   "source": [
    "def print_lyrics():\n",
    "    print('enna vilai azaghe')\n",
    "    print('sonnal vilaiku')"
   ]
  },
  {
   "cell_type": "markdown",
   "metadata": {},
   "source": [
    "# Calling Function inside another Function"
   ]
  },
  {
   "cell_type": "code",
   "execution_count": 46,
   "metadata": {},
   "outputs": [],
   "source": [
    "def repeat_lyrics():\n",
    "    print_lyrics()\n",
    "    print_lyrics()"
   ]
  },
  {
   "cell_type": "code",
   "execution_count": 47,
   "metadata": {},
   "outputs": [
    {
     "name": "stdout",
     "output_type": "stream",
     "text": [
      "enna vilai azaghe\n",
      "sonnal vilaiku\n",
      "enna vilai azaghe\n",
      "sonnal vilaiku\n"
     ]
    }
   ],
   "source": [
    "repeat_lyrics()"
   ]
  },
  {
   "cell_type": "markdown",
   "metadata": {},
   "source": [
    "### Error example when function is called before defining it."
   ]
  },
  {
   "cell_type": "code",
   "execution_count": 52,
   "metadata": {},
   "outputs": [
    {
     "ename": "NameError",
     "evalue": "name 'repeated_lyrics' is not defined",
     "output_type": "error",
     "traceback": [
      "\u001b[1;31m---------------------------------------------------------------------------\u001b[0m",
      "\u001b[1;31mNameError\u001b[0m                                 Traceback (most recent call last)",
      "\u001b[1;32m<ipython-input-52-6daa9410d70f>\u001b[0m in \u001b[0;36m<module>\u001b[1;34m\u001b[0m\n\u001b[1;32m----> 1\u001b[1;33m \u001b[0mrepeated_lyrics\u001b[0m\u001b[1;33m(\u001b[0m\u001b[1;33m)\u001b[0m\u001b[1;33m\u001b[0m\u001b[1;33m\u001b[0m\u001b[0m\n\u001b[0m\u001b[0;32m      2\u001b[0m \u001b[1;33m\u001b[0m\u001b[0m\n\u001b[0;32m      3\u001b[0m \u001b[1;32mdef\u001b[0m \u001b[0mprinted_lyrics\u001b[0m\u001b[1;33m(\u001b[0m\u001b[1;33m)\u001b[0m\u001b[1;33m:\u001b[0m\u001b[1;33m\u001b[0m\u001b[1;33m\u001b[0m\u001b[0m\n\u001b[0;32m      4\u001b[0m     \u001b[0mprint\u001b[0m\u001b[1;33m(\u001b[0m\u001b[1;34m'enna vilai azaghe'\u001b[0m\u001b[1;33m)\u001b[0m\u001b[1;33m\u001b[0m\u001b[1;33m\u001b[0m\u001b[0m\n\u001b[0;32m      5\u001b[0m     \u001b[0mprint\u001b[0m\u001b[1;33m(\u001b[0m\u001b[1;34m'sonnal vilaiku'\u001b[0m\u001b[1;33m)\u001b[0m\u001b[1;33m\u001b[0m\u001b[1;33m\u001b[0m\u001b[0m\n",
      "\u001b[1;31mNameError\u001b[0m: name 'repeated_lyrics' is not defined"
     ]
    }
   ],
   "source": [
    "repeated_lyrics()\n",
    "\n",
    "def printed_lyrics():\n",
    "    print('enna vilai azaghe')\n",
    "    print('sonnal vilaiku')\n",
    "\n",
    "def repeated_lyrics():\n",
    "    printed_lyrics()\n",
    "    printed_lyrics()\n",
    "\n"
   ]
  },
  {
   "cell_type": "markdown",
   "metadata": {},
   "source": [
    "### resolving the above error"
   ]
  },
  {
   "cell_type": "code",
   "execution_count": 54,
   "metadata": {},
   "outputs": [
    {
     "name": "stdout",
     "output_type": "stream",
     "text": [
      "enna vilai azaghe\n",
      "sonnal vilaiku\n",
      "enna vilai azaghe\n",
      "sonnal vilaiku\n"
     ]
    }
   ],
   "source": [
    "def repeated_lyrics():\n",
    "    printed_lyrics()\n",
    "    printed_lyrics()\n",
    "\n",
    "def printed_lyrics():\n",
    "    print('enna vilai azaghe')\n",
    "    print('sonnal vilaiku')\n",
    "\n",
    "repeated_lyrics()"
   ]
  },
  {
   "cell_type": "markdown",
   "metadata": {},
   "source": [
    "# Flow of execution\n",
    "<p class='lead'>A program starts executing statements from top to bottom beginning with first statement when a function is called it runs the body of the defined function and returns back to where it left off.</p>"
   ]
  },
  {
   "cell_type": "markdown",
   "metadata": {},
   "source": [
    "# Parameters and Arguments"
   ]
  },
  {
   "cell_type": "markdown",
   "metadata": {},
   "source": [
    "<div class=\"lead\">\n",
    "some functions require arguments, here print_twice takes one argument  \n",
    "</div>\n",
    "<div class=\"lead\">\n",
    "This function assigns the argument 'anyone' to the parameter now. This is called Parameter\n",
    "</div>\n",
    "<br>\n",
    "<h2>parameters:</h4> \n",
    "<h3>Parameters are defined in the function</h3>\n",
    "<h2>Arguments:</h4>\n",
    "<h3>Arguments are passed to the parameters by the user of the function</h3>\n",
    "<br>\n",
    "\n",
    "<div class='lead'>Arguments are evaluated first before function is called. so in the examples the expressions 'Spam '*4 and math.cos(math.pi) are only evaluated once.</div>\n",
    " "
   ]
  },
  {
   "cell_type": "code",
   "execution_count": 59,
   "metadata": {},
   "outputs": [],
   "source": [
    "def print_twice(now):\n",
    "    print(now)\n",
    "    print(now)"
   ]
  },
  {
   "cell_type": "code",
   "execution_count": 60,
   "metadata": {},
   "outputs": [
    {
     "name": "stdout",
     "output_type": "stream",
     "text": [
      "anyone\n",
      "anyone\n"
     ]
    }
   ],
   "source": [
    "print_twice('anyone')"
   ]
  },
  {
   "cell_type": "code",
   "execution_count": 61,
   "metadata": {},
   "outputs": [
    {
     "name": "stdout",
     "output_type": "stream",
     "text": [
      "spam spam spam spam spam \n",
      "spam spam spam spam spam \n"
     ]
    }
   ],
   "source": [
    "print_twice('spam ' * 5)"
   ]
  },
  {
   "cell_type": "markdown",
   "metadata": {},
   "source": [
    "# Variables and Parameters are local\n",
    "<br>\n",
    "\n",
    "<div class='lead'>\n",
    "When you create a variable inside a function, it is local , which means that it only exists inside the function.\n",
    "</div>\n",
    "\n",
    "<div class='lead'>\n",
    "Parameters are also local. For example, outside print_twice , there is no such thing as now.\n",
    "</div>\n",
    "\n",
    "<div class='lead'>def print_twice(now):<br>\n",
    "    print(now)\n",
    "    <br>\n",
    "    print(now)</div>\n"
   ]
  },
  {
   "cell_type": "markdown",
   "metadata": {},
   "source": [
    "# Stack Diagrams\n",
    "<br>\n",
    "<div class='lead'>\n",
    "To keep track of which variables can be used where, it is sometimes useful to draw a stack diagram . Like state diagrams, stack diagrams show the value of each variable, but they also show the function each variable belongs to.\n",
    "</div>\n",
    "<div class='lead'>\n",
    "When you create a variable outside a function it belongs to __main__ </div>\n",
    "\n",
    "\n"
   ]
  },
  {
   "attachments": {
    "image.png": {
     "image/png": "[encoded data removed]"
    }
   },
   "cell_type": "markdown",
   "metadata": {},
   "source": [
    "![image.png](attachment:image.png)"
   ]
  },
  {
   "cell_type": "markdown",
   "metadata": {},
   "source": [
    "# Fruitful Functions and Void Functions\n"
   ]
  },
  {
   "cell_type": "markdown",
   "metadata": {},
   "source": [
    "\n",
    "<div class='lead'>\n",
    "Some of the functions we have used, such as the math functions, return results; for lack of a better name, I call them fruitful functions . Other functions, like print_twice , perform an action but don’t return a value. They are called void functions .\n",
    "<br>\n",
    "\n",
    "</div>"
   ]
  },
  {
   "cell_type": "code",
   "execution_count": 65,
   "metadata": {},
   "outputs": [
    {
     "name": "stdout",
     "output_type": "stream",
     "text": [
      "2.23606797749979\n"
     ]
    }
   ],
   "source": [
    "# example of fruitful function with return value\n",
    "variable_square_root = math.sqrt(5)\n",
    "print(variable_square_root)"
   ]
  },
  {
   "cell_type": "code",
   "execution_count": 67,
   "metadata": {},
   "outputs": [
    {
     "name": "stdout",
     "output_type": "stream",
     "text": [
      "i know\n",
      "i know\n"
     ]
    }
   ],
   "source": [
    "# example of void function that doesn't have return value and return 'none' which is of special none type\n",
    "variable_print = print_twice('i know')\n"
   ]
  },
  {
   "cell_type": "code",
   "execution_count": 68,
   "metadata": {},
   "outputs": [
    {
     "name": "stdout",
     "output_type": "stream",
     "text": [
      "None\n"
     ]
    }
   ],
   "source": [
    "print(variable_print)"
   ]
  },
  {
   "cell_type": "markdown",
   "metadata": {},
   "source": [
    "# Glossary"
   ]
  },
  {
   "cell_type": "markdown",
   "metadata": {},
   "source": [
    "### function: \n",
    "A named sequence of statements that performs some useful operation. Functions may or may not take arguments and may or may not produce a result."
   ]
  },
  {
   "cell_type": "markdown",
   "metadata": {},
   "source": [
    "### function definition\n",
    "A statement that creates a new function, specifying its name, parameters, and the statements it contains.\n",
    "### function object\n",
    "function object: A value created by a function definition. The name of the function is a variable that refers to a function object.\n",
    "### header\n",
    "the first line of function definition\n",
    "### body: \n",
    "The sequence of statements inside a function definition. parameter: A name used inside a function to refer to the value passed as an argument. \n",
    "### function call: \n",
    "A statement that runs a function. It consists of the function name followed by an argument list in parentheses.\n",
    "argument: A value provided to a function when the function is called. This value is assigned to the corresponding parameter in the function. \n",
    "### local variable:\n",
    "A variable defined inside a function. A local variable can only be used inside its function. \n",
    "### return value:\n",
    "The result of a function. If a function call is used as an expression, the return value is the value of the expression.\n",
    "### fruitful function:\n",
    "A function that returns a value. void function: A function that always returns None . None : A special value returned by void functions. \n",
    "### module: \n",
    "A file that contains a collection of related functions and other definitions.\n",
    "### import statement:\n",
    "A statement that reads a module file and creates a module object. \n",
    "### module object: \n",
    "A value created by an import statement that provides access to the values defined in a module. \n",
    "### dot notation: \n",
    "The syntax for calling a function in another module by specifying the module name followed by a dot (period) and the function name. \n",
    "### composition: \n",
    "Using an expression as part of a larger expression, or a statement as part of a larger statement. \n",
    "### flow of execution:\n",
    "The order statements run in. \n",
    "### stack diagram:\n",
    "A graphical representation of a stack of functions, their variables, and the values they refer to. \n",
    "### frame:\n",
    "A box in a stack diagram that represents a function call. It contains the local variables and parameters of the function.\n",
    "### traceback:\n",
    "A list of the functions that are executing,"
   ]
  },
  {
   "cell_type": "markdown",
   "metadata": {},
   "source": [
    "# Exercises"
   ]
  },
  {
   "cell_type": "markdown",
   "metadata": {},
   "source": [
    "<div class='lead'>Ex 3-1 Write a function named right_justify that takes a string named s as a parameter and prints the string with enough leading spaces so that the last letter of the string is in column 70 of the display: >>> right_justify('monty') monty \n",
    "    <br>Hint: Use string concatenation and repetition. Also, Python provides a built-in function called len that returns the length of a string, so the value of len('monty') is 5.</div>"
   ]
  },
  {
   "cell_type": "code",
   "execution_count": 73,
   "metadata": {},
   "outputs": [
    {
     "name": "stdout",
     "output_type": "stream",
     "text": [
      "                                       a function to justify contents to right\n"
     ]
    }
   ],
   "source": [
    "def right_justify(word):\n",
    "    length_of_word = len(word)\n",
    "    print(' ' * length_of_word + word)\n",
    "\n",
    "right_justify('a function to justify contents to right')"
   ]
  },
  {
   "attachments": {
    "image.png": {
     "image/png": "[encoded data removed]"
    }
   },
   "cell_type": "markdown",
   "metadata": {},
   "source": [
    "### Ex 3-3 Write a function that draws a grid like the following:\n",
    "![image.png](attachment:image.png)"
   ]
  },
  {
   "cell_type": "code",
   "execution_count": 196,
   "metadata": {},
   "outputs": [
    {
     "name": "stdout",
     "output_type": "stream",
     "text": [
      "+ - - - - + - - - - +\n",
      "|         |         |\n",
      "|         |         |\n",
      "|         |         |\n",
      "|         |         |\n",
      "+ - - - - + - - - - +\n",
      "|         |         |\n",
      "|         |         |\n",
      "|         |         |\n",
      "|         |         |\n",
      "+ - - - - + - - - - +\n"
     ]
    }
   ],
   "source": [
    "def grid_draw():\n",
    "    print('+', '-', '-', '-', '-', '+', end=' ')\n",
    "    print('-', '-', '-', '-', '+')\n",
    "    print('|' + ' '* 9 + '|', '' + ' '* 8 + '|')\n",
    "    print('|' + ' '* 9 + '|', '' + ' '* 8 + '|')\n",
    "    print('|' + ' '* 9 + '|', '' + ' '* 8 + '|')\n",
    "    print('|' + ' '* 9 + '|', '' + ' '* 8 + '|')\n",
    "    \n",
    "    print('+', '-', '-', '-', '-', '+', end=' ')\n",
    "    print('-', '-', '-', '-', '+')\n",
    "    print('|' + ' '* 9 + '|', '' + ' '* 8 + '|')\n",
    "    print('|' + ' '* 9 + '|', '' + ' '* 8 + '|')\n",
    "    print('|' + ' '* 9 + '|', '' + ' '* 8 + '|')\n",
    "    print('|' + ' '* 9 + '|', '' + ' '* 8 + '|')\n",
    "    print('+', '-', '-', '-', '-', '+', end=' ')\n",
    "    print('-', '-', '-', '-', '+')\n",
    "    \n",
    "  \n",
    "grid_draw()"
   ]
  },
  {
   "cell_type": "code",
   "execution_count": 241,
   "metadata": {},
   "outputs": [
    {
     "name": "stdout",
     "output_type": "stream",
     "text": [
      "+ - - - - + - - - - +  - - - - + - - - - +\n",
      "|         |         |          |         |\n",
      "|         |         |          |         |\n",
      "|         |         |          |         |\n",
      "|         |         |          |         |\n",
      "+ - - - - + - - - - +  - - - - + - - - - +\n",
      "|         |         |          |         |\n",
      "|         |         |          |         |\n",
      "|         |         |          |         |\n",
      "|         |         |          |         |\n",
      "+ - - - - + - - - - +  - - - - + - - - - +\n",
      "|         |         |          |         |\n",
      "|         |         |          |         |\n",
      "|         |         |          |         |\n",
      "|         |         |          |         |\n",
      "+ - - - - + - - - - +  - - - - + - - - - +\n",
      "|         |         |          |         |\n",
      "|         |         |          |         |\n",
      "|         |         |          |         |\n",
      "|         |         |          |         |\n",
      "+ - - - - + - - - - +  - - - - + - - - - +\n"
     ]
    }
   ],
   "source": [
    "def grid_four_draw():\n",
    "    print('+', '-', '-', '-', '-', '+', end=' ')\n",
    "    print('-', '-', '-', '-', '+', end=' ')\n",
    "    print('', '-', '-', '-', '-', '+', end=' ')\n",
    "    print('-', '-', '-', '-', '+')\n",
    "    print('|' + ' '* 9 + '|', '' + ' '* 8 + '|', '' + ' '* 9 + '|', '' + ' '* 8 + '|')\n",
    "    print('|' + ' '* 9 + '|', '' + ' '* 8 + '|', '' + ' '* 9 + '|', '' + ' '* 8 + '|')\n",
    "    print('|' + ' '* 9 + '|', '' + ' '* 8 + '|', '' + ' '* 9 + '|', '' + ' '* 8 + '|')\n",
    "    print('|' + ' '* 9 + '|', '' + ' '* 8 + '|', '' + ' '* 9 + '|', '' + ' '* 8 + '|')\n",
    "    \n",
    "    print('+', '-', '-', '-', '-', '+', end=' ')\n",
    "    print('-', '-', '-', '-', '+', end=' ')\n",
    "    print('', '-', '-', '-', '-', '+', end=' ')\n",
    "    print('-', '-', '-', '-', '+')\n",
    "    print('|' + ' '* 9 + '|', '' + ' '* 8 + '|', '' + ' '* 9 + '|', '' + ' '* 8 + '|')\n",
    "    print('|' + ' '* 9 + '|', '' + ' '* 8 + '|', '' + ' '* 9 + '|', '' + ' '* 8 + '|')\n",
    "    print('|' + ' '* 9 + '|', '' + ' '* 8 + '|', '' + ' '* 9 + '|', '' + ' '* 8 + '|')\n",
    "    print('|' + ' '* 9 + '|', '' + ' '* 8 + '|', '' + ' '* 9 + '|', '' + ' '* 8 + '|')\n",
    "    print('+', '-', '-', '-', '-', '+', end=' ')\n",
    "    print('-', '-', '-', '-', '+', end=' ')\n",
    "    print('', '-', '-', '-', '-', '+', end=' ')\n",
    "    print('-', '-', '-', '-', '+')\n",
    "    \n",
    "    \n",
    "    print('|' + ' '* 9 + '|', '' + ' '* 8 + '|', '' + ' '* 9 + '|', '' + ' '* 8 + '|')\n",
    "    print('|' + ' '* 9 + '|', '' + ' '* 8 + '|', '' + ' '* 9 + '|', '' + ' '* 8 + '|')\n",
    "    print('|' + ' '* 9 + '|', '' + ' '* 8 + '|', '' + ' '* 9 + '|', '' + ' '* 8 + '|')\n",
    "    print('|' + ' '* 9 + '|', '' + ' '* 8 + '|', '' + ' '* 9 + '|', '' + ' '* 8 + '|')\n",
    "    \n",
    "    print('+', '-', '-', '-', '-', '+', end=' ')\n",
    "    print('-', '-', '-', '-', '+', end=' ')\n",
    "    print('', '-', '-', '-', '-', '+', end=' ')\n",
    "    print('-', '-', '-', '-', '+')\n",
    "    print('|' + ' '* 9 + '|', '' + ' '* 8 + '|', '' + ' '* 9 + '|', '' + ' '* 8 + '|')\n",
    "    print('|' + ' '* 9 + '|', '' + ' '* 8 + '|', '' + ' '* 9 + '|', '' + ' '* 8 + '|')\n",
    "    print('|' + ' '* 9 + '|', '' + ' '* 8 + '|', '' + ' '* 9 + '|', '' + ' '* 8 + '|')\n",
    "    print('|' + ' '* 9 + '|', '' + ' '* 8 + '|', '' + ' '* 9 + '|', '' + ' '* 8 + '|')\n",
    "    print('+', '-', '-', '-', '-', '+', end=' ')\n",
    "    print('-', '-', '-', '-', '+', end=' ')\n",
    "    print('', '-', '-', '-', '-', '+', end=' ')\n",
    "    print('-', '-', '-', '-', '+')\n",
    "    \n",
    "\n",
    "    \n",
    "    \n",
    "    \n",
    "\n",
    "    \n",
    "grid_four_draw()"
   ]
  },
  {
   "cell_type": "code",
   "execution_count": null,
   "metadata": {},
   "outputs": [],
   "source": []
  }
 ],
 "metadata": {
  "kernelspec": {
   "display_name": "Python 3.8.2 32-bit",
   "language": "python",
   "name": "python38232bit68460bb0a96b47e988b97ec3e3d8b3e6"
  },
  "language_info": {
   "codemirror_mode": {
    "name": "ipython",
    "version": 3
   },
   "file_extension": ".py",
   "mimetype": "text/x-python",
   "name": "python",
   "nbconvert_exporter": "python",
   "pygments_lexer": "ipython3",
   "version": "3.8.2"
  }
 },
 "nbformat": 4,
 "nbformat_minor": 4
}
